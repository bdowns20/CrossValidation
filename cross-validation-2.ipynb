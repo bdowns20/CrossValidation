{
 "cells": [
  {
   "cell_type": "markdown",
   "metadata": {},
   "source": [
    "Barrett Downs\n",
    "02/11/2021"
   ]
  },
  {
   "cell_type": "markdown",
   "metadata": {},
   "source": [
    "# Cross Validation and model Selection\n",
    "\n",
    "## imports\n"
   ]
  },
  {
   "cell_type": "code",
   "execution_count": 1,
   "metadata": {},
   "outputs": [],
   "source": [
    "%matplotlib inline\n",
    "import numpy as np\n",
    "import matplotlib.pyplot as plt\n",
    "import pandas as pd \n",
    "\n",
    "import sklearn\n",
    "from sklearn import tree\n",
    "from sklearn import datasets\n",
    "from sklearn import model_selection\n",
    "from sklearn import metrics"
   ]
  },
  {
   "cell_type": "markdown",
   "metadata": {},
   "source": [
    "## Load Data"
   ]
  },
  {
   "cell_type": "code",
   "execution_count": 2,
   "metadata": {},
   "outputs": [
    {
     "data": {
      "text/html": [
       "<div>\n",
       "<style scoped>\n",
       "    .dataframe tbody tr th:only-of-type {\n",
       "        vertical-align: middle;\n",
       "    }\n",
       "\n",
       "    .dataframe tbody tr th {\n",
       "        vertical-align: top;\n",
       "    }\n",
       "\n",
       "    .dataframe thead th {\n",
       "        text-align: right;\n",
       "    }\n",
       "</style>\n",
       "<table border=\"1\" class=\"dataframe\">\n",
       "  <thead>\n",
       "    <tr style=\"text-align: right;\">\n",
       "      <th></th>\n",
       "      <th>sepal_length</th>\n",
       "      <th>sepal_width</th>\n",
       "      <th>petal_length</th>\n",
       "      <th>petal_width</th>\n",
       "      <th>target</th>\n",
       "    </tr>\n",
       "  </thead>\n",
       "  <tbody>\n",
       "    <tr>\n",
       "      <th>0</th>\n",
       "      <td>5.1</td>\n",
       "      <td>3.5</td>\n",
       "      <td>1.4</td>\n",
       "      <td>0.2</td>\n",
       "      <td>setosa</td>\n",
       "    </tr>\n",
       "    <tr>\n",
       "      <th>1</th>\n",
       "      <td>4.9</td>\n",
       "      <td>3.0</td>\n",
       "      <td>1.4</td>\n",
       "      <td>0.2</td>\n",
       "      <td>setosa</td>\n",
       "    </tr>\n",
       "    <tr>\n",
       "      <th>2</th>\n",
       "      <td>4.7</td>\n",
       "      <td>3.2</td>\n",
       "      <td>1.3</td>\n",
       "      <td>0.2</td>\n",
       "      <td>setosa</td>\n",
       "    </tr>\n",
       "    <tr>\n",
       "      <th>3</th>\n",
       "      <td>4.6</td>\n",
       "      <td>3.1</td>\n",
       "      <td>1.5</td>\n",
       "      <td>0.2</td>\n",
       "      <td>setosa</td>\n",
       "    </tr>\n",
       "    <tr>\n",
       "      <th>4</th>\n",
       "      <td>5.0</td>\n",
       "      <td>3.6</td>\n",
       "      <td>1.4</td>\n",
       "      <td>0.2</td>\n",
       "      <td>setosa</td>\n",
       "    </tr>\n",
       "  </tbody>\n",
       "</table>\n",
       "</div>"
      ],
      "text/plain": [
       "   sepal_length  sepal_width  petal_length  petal_width  target\n",
       "0           5.1          3.5           1.4          0.2  setosa\n",
       "1           4.9          3.0           1.4          0.2  setosa\n",
       "2           4.7          3.2           1.3          0.2  setosa\n",
       "3           4.6          3.1           1.5          0.2  setosa\n",
       "4           5.0          3.6           1.4          0.2  setosa"
      ]
     },
     "execution_count": 2,
     "metadata": {},
     "output_type": "execute_result"
    }
   ],
   "source": [
    "iris = datasets.load_iris()\n",
    "tmp = {name: iris.data[:, i] for i, name in enumerate(iris.feature_names)}  # dictionary comprehension\n",
    "tmp[\"target\"] = [iris.target_names[i] for i in iris.target]\n",
    "iris_df = pd.DataFrame(tmp)\n",
    "iris_df.columns = [\"sepal_length\", \"sepal_width\", \"petal_length\", \"petal_width\", \"target\"]\n",
    "iris_df.head()"
   ]
  },
  {
   "cell_type": "code",
   "execution_count": 3,
   "metadata": {},
   "outputs": [
    {
     "data": {
      "text/plain": [
       "DecisionTreeClassifier()"
      ]
     },
     "execution_count": 3,
     "metadata": {},
     "output_type": "execute_result"
    }
   ],
   "source": [
    "X = iris_df.drop([\"target\"], axis=1)\n",
    "y = iris_df[\"target\"]\n",
    "clf = tree.DecisionTreeClassifier()\n",
    "clf"
   ]
  },
  {
   "cell_type": "markdown",
   "metadata": {},
   "source": [
    "## Train/test Split"
   ]
  },
  {
   "cell_type": "code",
   "execution_count": 4,
   "metadata": {},
   "outputs": [
    {
     "name": "stdout",
     "output_type": "stream",
     "text": [
      "(150, 4) (100, 4) (50, 4)\n"
     ]
    }
   ],
   "source": [
    "(X_train, X_test, y_train, y_test) = model_selection.train_test_split(X, y, test_size=1/3) #splitting data into thirds\n",
    "print(X.shape, X_train.shape, X_test.shape)#confirm test set is 1/3 of data set"
   ]
  },
  {
   "cell_type": "code",
   "execution_count": 5,
   "metadata": {},
   "outputs": [],
   "source": [
    "#train \n",
    "clf.fit(X_train, y_train)\n",
    "#predict\n",
    "y_pred = clf.predict(X_test)"
   ]
  },
  {
   "cell_type": "code",
   "execution_count": 6,
   "metadata": {},
   "outputs": [
    {
     "data": {
      "text/plain": [
       "0.9653333333333333"
      ]
     },
     "execution_count": 6,
     "metadata": {},
     "output_type": "execute_result"
    }
   ],
   "source": [
    "metrics.precision_score(y_test, y_pred, average=\"weighted\")"
   ]
  },
  {
   "cell_type": "code",
   "execution_count": 7,
   "metadata": {},
   "outputs": [
    {
     "data": {
      "text/plain": [
       "0.96"
      ]
     },
     "execution_count": 7,
     "metadata": {},
     "output_type": "execute_result"
    }
   ],
   "source": [
    "metrics.recall_score(y_test, y_pred, average=\"weighted\")"
   ]
  },
  {
   "cell_type": "code",
   "execution_count": 8,
   "metadata": {},
   "outputs": [
    {
     "data": {
      "text/plain": [
       "0.9600952380952381"
      ]
     },
     "execution_count": 8,
     "metadata": {},
     "output_type": "execute_result"
    }
   ],
   "source": [
    "metrics.f1_score(y_test, y_pred, average=\"weighted\")"
   ]
  },
  {
   "cell_type": "code",
   "execution_count": 9,
   "metadata": {},
   "outputs": [
    {
     "name": "stdout",
     "output_type": "stream",
     "text": [
      "precision=0.9653333333333333\n",
      "recall=   0.96\n",
      "f1=       0.9600952380952381\n"
     ]
    }
   ],
   "source": [
    "# score\n",
    "print(\"precision={}\".format(metrics.precision_score(y_test, y_pred, average=\"weighted\")))\n",
    "print(\"recall=   {}\".format(metrics.recall_score(y_test, y_pred, average=\"weighted\")))\n",
    "print(\"f1=       {}\".format(metrics.f1_score(y_test, y_pred, average=\"weighted\")))\n"
   ]
  },
  {
   "cell_type": "markdown",
   "metadata": {},
   "source": [
    "## KFold Cross Validation"
   ]
  },
  {
   "cell_type": "code",
   "execution_count": 12,
   "metadata": {},
   "outputs": [
    {
     "name": "stdout",
     "output_type": "stream",
     "text": [
      "TRAIN: [0 1 2 4 6] TEST: [ 3  5  8 20 38]\n",
      "precision=1.0\n",
      "recall=   1.0\n",
      "f1=       1.0\n",
      "\n",
      "TRAIN: [3 4 5 6 7] TEST: [ 0  1  2 24 32]\n",
      "precision=0.8666666666666667\n",
      "recall=   0.8666666666666667\n",
      "f1=       0.8666666666666667\n",
      "\n",
      "TRAIN: [0 1 2 3 4] TEST: [14 68 71 81 98]\n",
      "precision=0.9466666666666667\n",
      "recall=   0.9333333333333333\n",
      "f1=       0.9352826510721248\n",
      "\n",
      "TRAIN: [0 1 2 3 4] TEST: [ 6 12 21 59 63]\n",
      "precision=0.9666666666666667\n",
      "recall=   0.9333333333333333\n",
      "f1=       0.9428571428571428\n",
      "\n",
      "TRAIN: [0 1 2 3 4] TEST: [10 17 23 29 31]\n",
      "precision=0.9444444444444445\n",
      "recall=   0.9333333333333333\n",
      "f1=       0.9316017316017315\n",
      "\n",
      "TRAIN: [0 1 2 3 5] TEST: [ 4 16 34 41 43]\n",
      "precision=0.9444444444444445\n",
      "recall=   0.9333333333333333\n",
      "f1=       0.9326599326599326\n",
      "\n",
      "TRAIN: [0 1 2 3 4] TEST: [19 22 25 26 30]\n",
      "precision=1.0\n",
      "recall=   1.0\n",
      "f1=       1.0\n",
      "\n",
      "TRAIN: [0 1 2 3 4] TEST: [ 9 36 39 44 47]\n",
      "precision=1.0\n",
      "recall=   1.0\n",
      "f1=       1.0\n",
      "\n",
      "TRAIN: [0 1 2 3 4] TEST: [11 13 15 27 28]\n",
      "precision=1.0\n",
      "recall=   1.0\n",
      "f1=       1.0\n",
      "\n",
      "TRAIN: [0 1 2 3 4] TEST: [ 7 18 37 45 53]\n",
      "precision=0.92\n",
      "recall=   0.8666666666666667\n",
      "f1=       0.8738095238095238\n",
      "\n"
     ]
    }
   ],
   "source": [
    "kf = model_selection.KFold(n_splits=10, random_state=30, shuffle=True) #Using 10 Folds\n",
    "for train_index, test_index in kf.split(iris_df):\n",
    "    print(\"TRAIN:\", train_index[:5], \"TEST:\", test_index[:5])\n",
    "    X_train, X_test = X.iloc[train_index], X.iloc[test_index]\n",
    "    y_train, y_test = y.iloc[train_index], y.iloc[test_index]\n",
    "    clf.fit(X_train, y_train)\n",
    "    y_pred = clf.predict(X_test)\n",
    "    print(\"precision={}\".format(metrics.precision_score(y_test, y_pred, average=\"weighted\")))\n",
    "    print(\"recall=   {}\".format(metrics.recall_score(y_test, y_pred, average=\"weighted\")))\n",
    "    print(\"f1=       {}\".format(metrics.f1_score(y_test, y_pred, average=\"weighted\")))\n",
    "    \n",
    "    print()\n",
    "    "
   ]
  },
  {
   "cell_type": "markdown",
   "metadata": {},
   "source": [
    "[Scoring Parameter](https://scikit-learn.org/stable/modules/model_evaluation.html#scoring-parameter)"
   ]
  },
  {
   "cell_type": "code",
   "execution_count": 13,
   "metadata": {},
   "outputs": [
    {
     "data": {
      "text/plain": [
       "{'fit_time': array([0.00310016, 0.00251913, 0.00245595, 0.00254583, 0.00248003,\n",
       "        0.00291586, 0.00220799, 0.00238276, 0.00217915, 0.00201201]),\n",
       " 'score_time': array([0.00490189, 0.00436592, 0.00501513, 0.00448012, 0.00398612,\n",
       "        0.00417209, 0.00391579, 0.00414515, 0.00368905, 0.00382996]),\n",
       " 'test_precision_weighted': array([1.        , 0.94444444, 1.        , 0.94444444, 0.94444444,\n",
       "        0.86666667, 0.94444444, 1.        , 1.        , 1.        ]),\n",
       " 'test_recall_weighted': array([1.        , 0.93333333, 1.        , 0.93333333, 0.93333333,\n",
       "        0.86666667, 0.93333333, 1.        , 1.        , 1.        ]),\n",
       " 'test_f1_weighted': array([1.        , 0.93265993, 1.        , 0.93265993, 0.93265993,\n",
       "        0.86666667, 0.93265993, 1.        , 1.        , 1.        ])}"
      ]
     },
     "execution_count": 13,
     "metadata": {},
     "output_type": "execute_result"
    }
   ],
   "source": [
    "#Same method as above just much less code to write\n",
    "scores = model_selection.cross_validate(clf, X, y, cv=10, # using 10 folds\n",
    "                                        scoring=[\"precision_weighted\", \"recall_weighted\", \"f1_weighted\"])\n",
    "scores"
   ]
  },
  {
   "cell_type": "code",
   "execution_count": 14,
   "metadata": {},
   "outputs": [
    {
     "data": {
      "text/plain": [
       "0.9597306397306398"
      ]
     },
     "execution_count": 14,
     "metadata": {},
     "output_type": "execute_result"
    }
   ],
   "source": [
    "np.mean(scores[\"test_f1_weighted\"])"
   ]
  },
  {
   "cell_type": "code",
   "execution_count": null,
   "metadata": {},
   "outputs": [],
   "source": []
  }
 ],
 "metadata": {
  "kernelspec": {
   "display_name": "Python 3",
   "language": "python",
   "name": "python3"
  },
  "language_info": {
   "codemirror_mode": {
    "name": "ipython",
    "version": 3
   },
   "file_extension": ".py",
   "mimetype": "text/x-python",
   "name": "python",
   "nbconvert_exporter": "python",
   "pygments_lexer": "ipython3",
   "version": "3.8.2"
  }
 },
 "nbformat": 4,
 "nbformat_minor": 2
}
